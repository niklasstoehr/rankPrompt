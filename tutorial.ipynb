{
 "cells": [
  {
   "cell_type": "markdown",
   "id": "9c9429b4-3254-467b-8679-e0b9a77ae5bf",
   "metadata": {},
   "source": [
    "# Tutorial"
   ]
  },
  {
   "cell_type": "code",
   "execution_count": 1,
   "id": "39a40a1a-5690-4ffe-a657-008d513cc2c5",
   "metadata": {},
   "outputs": [
    {
     "name": "stdout",
     "output_type": "stream",
     "text": [
      "Requirement already satisfied: appnope==0.1.4 in /opt/homebrew/lib/python3.11/site-packages (from -r requirements.txt (line 1)) (0.1.4)\n",
      "Requirement already satisfied: asttokens==2.4.1 in /opt/homebrew/lib/python3.11/site-packages (from -r requirements.txt (line 2)) (2.4.1)\n",
      "Requirement already satisfied: certifi==2024.2.2 in /opt/homebrew/lib/python3.11/site-packages (from -r requirements.txt (line 3)) (2024.2.2)\n",
      "Requirement already satisfied: charset-normalizer==3.3.2 in /opt/homebrew/lib/python3.11/site-packages (from -r requirements.txt (line 4)) (3.3.2)\n",
      "Requirement already satisfied: comm==0.2.2 in /opt/homebrew/lib/python3.11/site-packages (from -r requirements.txt (line 5)) (0.2.2)\n",
      "Requirement already satisfied: debugpy==1.8.1 in /opt/homebrew/lib/python3.11/site-packages (from -r requirements.txt (line 6)) (1.8.1)\n",
      "Requirement already satisfied: decorator==5.1.1 in /opt/homebrew/lib/python3.11/site-packages (from -r requirements.txt (line 7)) (5.1.1)\n",
      "Requirement already satisfied: executing==2.0.1 in /opt/homebrew/lib/python3.11/site-packages (from -r requirements.txt (line 8)) (2.0.1)\n",
      "Requirement already satisfied: filelock==3.13.1 in /opt/homebrew/lib/python3.11/site-packages (from -r requirements.txt (line 9)) (3.13.1)\n",
      "Requirement already satisfied: fsspec==2024.3.1 in /opt/homebrew/lib/python3.11/site-packages (from -r requirements.txt (line 10)) (2024.3.1)\n",
      "Requirement already satisfied: huggingface-hub==0.21.4 in /opt/homebrew/lib/python3.11/site-packages (from -r requirements.txt (line 11)) (0.21.4)\n",
      "Requirement already satisfied: idna==3.6 in /opt/homebrew/lib/python3.11/site-packages (from -r requirements.txt (line 12)) (3.6)\n",
      "Requirement already satisfied: ipykernel==6.29.3 in /opt/homebrew/lib/python3.11/site-packages (from -r requirements.txt (line 13)) (6.29.3)\n",
      "Requirement already satisfied: ipython==8.22.2 in /opt/homebrew/lib/python3.11/site-packages (from -r requirements.txt (line 14)) (8.22.2)\n",
      "Requirement already satisfied: ipywidgets==8.1.2 in /opt/homebrew/lib/python3.11/site-packages (from -r requirements.txt (line 15)) (8.1.2)\n",
      "Requirement already satisfied: jedi==0.19.1 in /opt/homebrew/lib/python3.11/site-packages (from -r requirements.txt (line 16)) (0.19.1)\n",
      "Requirement already satisfied: Jinja2==3.1.3 in /opt/homebrew/lib/python3.11/site-packages (from -r requirements.txt (line 17)) (3.1.3)\n",
      "Requirement already satisfied: joblib==1.3.2 in /opt/homebrew/lib/python3.11/site-packages (from -r requirements.txt (line 18)) (1.3.2)\n",
      "Requirement already satisfied: jupyter_client==8.6.1 in /opt/homebrew/lib/python3.11/site-packages (from -r requirements.txt (line 19)) (8.6.1)\n",
      "Requirement already satisfied: jupyter_core==5.7.2 in /opt/homebrew/lib/python3.11/site-packages (from -r requirements.txt (line 20)) (5.7.2)\n",
      "Requirement already satisfied: jupyterlab_widgets==3.0.10 in /opt/homebrew/lib/python3.11/site-packages (from -r requirements.txt (line 21)) (3.0.10)\n",
      "Requirement already satisfied: MarkupSafe==2.1.5 in /opt/homebrew/lib/python3.11/site-packages (from -r requirements.txt (line 22)) (2.1.5)\n",
      "Requirement already satisfied: matplotlib-inline==0.1.6 in /opt/homebrew/lib/python3.11/site-packages (from -r requirements.txt (line 23)) (0.1.6)\n",
      "Requirement already satisfied: mpmath==1.3.0 in /opt/homebrew/lib/python3.11/site-packages (from -r requirements.txt (line 24)) (1.3.0)\n",
      "Requirement already satisfied: nest-asyncio==1.6.0 in /opt/homebrew/lib/python3.11/site-packages (from -r requirements.txt (line 25)) (1.6.0)\n",
      "Requirement already satisfied: networkx==3.2.1 in /opt/homebrew/lib/python3.11/site-packages (from -r requirements.txt (line 26)) (3.2.1)\n",
      "Requirement already satisfied: numpy==1.26.4 in /opt/homebrew/lib/python3.11/site-packages (from -r requirements.txt (line 27)) (1.26.4)\n",
      "Requirement already satisfied: packaging==24.0 in /opt/homebrew/lib/python3.11/site-packages (from -r requirements.txt (line 28)) (24.0)\n",
      "Requirement already satisfied: parso==0.8.3 in /opt/homebrew/lib/python3.11/site-packages (from -r requirements.txt (line 29)) (0.8.3)\n",
      "Requirement already satisfied: pexpect==4.9.0 in /opt/homebrew/lib/python3.11/site-packages (from -r requirements.txt (line 30)) (4.9.0)\n",
      "Requirement already satisfied: platformdirs==4.2.0 in /opt/homebrew/lib/python3.11/site-packages (from -r requirements.txt (line 31)) (4.2.0)\n",
      "Requirement already satisfied: prompt-toolkit==3.0.43 in /opt/homebrew/lib/python3.11/site-packages (from -r requirements.txt (line 32)) (3.0.43)\n",
      "Requirement already satisfied: psutil==5.9.8 in /opt/homebrew/lib/python3.11/site-packages (from -r requirements.txt (line 33)) (5.9.8)\n",
      "Requirement already satisfied: ptyprocess==0.7.0 in /opt/homebrew/lib/python3.11/site-packages (from -r requirements.txt (line 34)) (0.7.0)\n",
      "Requirement already satisfied: pure-eval==0.2.2 in /opt/homebrew/lib/python3.11/site-packages (from -r requirements.txt (line 35)) (0.2.2)\n",
      "Requirement already satisfied: Pygments==2.17.2 in /opt/homebrew/lib/python3.11/site-packages (from -r requirements.txt (line 36)) (2.17.2)\n",
      "Requirement already satisfied: python-dateutil==2.9.0.post0 in /opt/homebrew/lib/python3.11/site-packages (from -r requirements.txt (line 37)) (2.9.0.post0)\n",
      "Requirement already satisfied: python-dotenv==1.0.1 in /opt/homebrew/lib/python3.11/site-packages (from -r requirements.txt (line 38)) (1.0.1)\n",
      "Requirement already satisfied: PyYAML==6.0.1 in /opt/homebrew/lib/python3.11/site-packages (from -r requirements.txt (line 39)) (6.0.1)\n",
      "Requirement already satisfied: pyzmq==25.1.2 in /opt/homebrew/lib/python3.11/site-packages (from -r requirements.txt (line 40)) (25.1.2)\n",
      "Requirement already satisfied: regex==2023.12.25 in /opt/homebrew/lib/python3.11/site-packages (from -r requirements.txt (line 41)) (2023.12.25)\n",
      "Requirement already satisfied: requests==2.31.0 in /opt/homebrew/lib/python3.11/site-packages (from -r requirements.txt (line 42)) (2.31.0)\n",
      "Requirement already satisfied: safetensors==0.4.2 in /opt/homebrew/lib/python3.11/site-packages (from -r requirements.txt (line 43)) (0.4.2)\n",
      "Requirement already satisfied: scikit-learn==1.4.1.post1 in /opt/homebrew/lib/python3.11/site-packages (from -r requirements.txt (line 44)) (1.4.1.post1)\n",
      "Requirement already satisfied: scipy==1.12.0 in /opt/homebrew/lib/python3.11/site-packages (from -r requirements.txt (line 45)) (1.12.0)\n",
      "Requirement already satisfied: six==1.16.0 in /opt/homebrew/lib/python3.11/site-packages (from -r requirements.txt (line 46)) (1.16.0)\n",
      "Requirement already satisfied: stack-data==0.6.3 in /opt/homebrew/lib/python3.11/site-packages (from -r requirements.txt (line 47)) (0.6.3)\n",
      "Requirement already satisfied: sympy==1.12 in /opt/homebrew/lib/python3.11/site-packages (from -r requirements.txt (line 48)) (1.12)\n",
      "Requirement already satisfied: threadpoolctl==3.4.0 in /opt/homebrew/lib/python3.11/site-packages (from -r requirements.txt (line 49)) (3.4.0)\n",
      "Requirement already satisfied: tokenizers==0.15.2 in /opt/homebrew/lib/python3.11/site-packages (from -r requirements.txt (line 50)) (0.15.2)\n",
      "Requirement already satisfied: torch==2.2.1 in /opt/homebrew/lib/python3.11/site-packages (from -r requirements.txt (line 51)) (2.2.1)\n",
      "Requirement already satisfied: tornado==6.4 in /opt/homebrew/lib/python3.11/site-packages (from -r requirements.txt (line 52)) (6.4)\n",
      "Requirement already satisfied: tqdm==4.66.2 in /opt/homebrew/lib/python3.11/site-packages (from -r requirements.txt (line 53)) (4.66.2)\n",
      "Requirement already satisfied: traitlets==5.14.2 in /opt/homebrew/lib/python3.11/site-packages (from -r requirements.txt (line 54)) (5.14.2)\n",
      "Requirement already satisfied: transformers==4.39.1 in /opt/homebrew/lib/python3.11/site-packages (from -r requirements.txt (line 55)) (4.39.1)\n",
      "Requirement already satisfied: typing_extensions==4.10.0 in /opt/homebrew/lib/python3.11/site-packages (from -r requirements.txt (line 56)) (4.10.0)\n",
      "Requirement already satisfied: urllib3==2.2.1 in /opt/homebrew/lib/python3.11/site-packages (from -r requirements.txt (line 57)) (2.2.1)\n",
      "Requirement already satisfied: wcwidth==0.2.13 in /opt/homebrew/lib/python3.11/site-packages (from -r requirements.txt (line 58)) (0.2.13)\n",
      "Requirement already satisfied: widgetsnbextension==4.0.10 in /opt/homebrew/lib/python3.11/site-packages (from -r requirements.txt (line 59)) (4.0.10)\n",
      "\n",
      "\u001b[1m[\u001b[0m\u001b[34;49mnotice\u001b[0m\u001b[1;39;49m]\u001b[0m\u001b[39;49m A new release of pip is available: \u001b[0m\u001b[31;49m24.1\u001b[0m\u001b[39;49m -> \u001b[0m\u001b[32;49m24.1.2\u001b[0m\n",
      "\u001b[1m[\u001b[0m\u001b[34;49mnotice\u001b[0m\u001b[1;39;49m]\u001b[0m\u001b[39;49m To update, run: \u001b[0m\u001b[32;49mpython3.11 -m pip install --upgrade pip\u001b[0m\n"
     ]
    }
   ],
   "source": [
    "!pip install -r requirements.txt"
   ]
  },
  {
   "cell_type": "code",
   "execution_count": 2,
   "id": "bc98b900-d493-4907-a1ef-2787c06f9d4c",
   "metadata": {},
   "outputs": [],
   "source": [
    "import os, sys, pathlib\n",
    "ROOT = pathlib.Path(os.getcwd()).parent.parent\n",
    "sys.path.append(str(ROOT))\n",
    "\n",
    "from utils import helpers, dataloading, prompting"
   ]
  },
  {
   "cell_type": "markdown",
   "id": "9cbe3bf7-9dcd-4dc7-8d3e-642a67263c37",
   "metadata": {},
   "source": [
    "### Load Model"
   ]
  },
  {
   "cell_type": "code",
   "execution_count": 21,
   "id": "801454fb-f441-4a58-a454-e5460a8d0c2d",
   "metadata": {},
   "outputs": [
    {
     "name": "stdout",
     "output_type": "stream",
     "text": [
      "loaded gpt2-small on cpu\n"
     ]
    }
   ],
   "source": [
    "model, tokenizer = helpers.load_model(model_name=\"gpt2-small\", device=\"cpu\")"
   ]
  },
  {
   "cell_type": "markdown",
   "id": "c85f6d89-b356-4dc0-9c4a-0812974f3734",
   "metadata": {},
   "source": [
    "### Load Data"
   ]
  },
  {
   "cell_type": "code",
   "execution_count": 18,
   "id": "c8c0a5ec-30da-415a-82c4-f2a79675cde0",
   "metadata": {},
   "outputs": [],
   "source": [
    "class SynthFacts(dataloading.Data_Loader):\n",
    "    def __init__(self, **kwargs):\n",
    "        super().__init__(**kwargs)\n",
    "\n",
    "    def load(self, prompt_type):\n",
    "        ents_ranks = [{\"ents\": [\"horrible\", \"bad\", \"okay\", \"good\", \"great\", \"awesome\"], \"ranks\": [0, 1, 2, 3, 4, 5]},\n",
    "                      {\"ents\": [\"1\", \"10\", \"100\", \"500\", \"1000\", \"10000\"], \"ranks\": [0, 1, 2, 3, 4, 5]}]\n",
    "\n",
    "        data = {\"pair\": [{\"prompt\": 'Does the adjective \"{a}\" convey a more positive sentiment than \"{b}\"? {answ}',\n",
    "                        \"tok\": {\"Yes\": \"ĠYes\", \"No\": \"ĠNo\"}},\n",
    "                        {\"prompt\": 'Is \"{a}\" a larger number than \"{b}\"? {answ}', \"tok\": {\"Yes\": \"ĠYes\", \"No\": \"ĠNo\"}}],\n",
    "                \"point\": [{\"prompt\": 'The sentiment of the adjective \"{x}\" is {answ}', \"tok\": {\"[MASK]\": \"[MASK]\"}},\n",
    "                            {\"prompt\": \"The cardinality of the number {x} is {answ}\", \"tok\": {\"[MASK]\": \"[MASK]\"}}],\n",
    "                \"point_scale\": [{\"prompt\": 'On a scale from 0 to 10, the sentiment of the adjective \"{x}\" is {answ}', \"tok\": {\"[MASK]\": \"[MASK]\"}},\n",
    "                                  {\"prompt\": \"On a scale from 0 to 10, the cardinality of the number {x} is {answ}\", \"tok\": {\"[MASK]\": \"[MASK]\"}}],\n",
    "                \"list\": [{\"prompt\": 'Order the following adjectives by sentiment. Adjectives: {x}. The correct ordering is:', \"tok\": {'{alpha}'}}, ## alpha means: (alpha) option A, B ...\n",
    "                        {\"prompt\": 'Order the following numbers by cardinality. Numbers: {x}. The correct ordering is:', \"tok\": {'{alpha}'}}] ## just list the numbers....\n",
    "                }\n",
    "        data = [{**prompt_tok, **ents_ranks[i]} for i, prompt_tok in enumerate(data[prompt_type])]\n",
    "        return data\n",
    "\n",
    "\n",
    "class SynthContext(dataloading.Data_Loader):\n",
    "    def __init__(self, **kwargs):\n",
    "        super().__init__(**kwargs)\n",
    "\n",
    "    def load(self, prompt_type):\n",
    "\n",
    "        ents_ranks = [{\"ents\": [\"brown\", \"green\", \"purple\", \"yellow\", \"red\", \"blue\"], \"ranks\": [0, 1, 2, 3, 4, 5]},\n",
    "                      {\"ents\": [\"Emily\", \"Muhammad\", \"An\", \"Tom\", \"Sam\", \"Jenny\"], \"ranks\": [0, 1, 2, 3, 4, 5]}]\n",
    "\n",
    "        contexts = [\"Most students selected blue as their favourite color, followed by red, then yellow. Brown ranked lowest, green second lowest and purple third lowest. \",\n",
    "                   \"An owns 100 dollar, Tom owns 50 dollars more and Sam 75 dollars more. Jenny is the richest owning 1000 dollar. Emily and Muhammad are at the lower end owning only 5 dollar and 10 dollars respectively. \"]\n",
    "\n",
    "        data = {\"pair\": [{\"prompt\": contexts[0] + \"Is the color {a} more popular than {b}? {answ}\", \"tok\": {\"Yes\": \"ĠYes\", \"No\": \"ĠNo\"}},\n",
    "                    {\"prompt\": contexts[1] + 'Is {a} richer than {b}? {answ}',\"tok\": {\"Yes\": \"ĠYes\", \"No\": \"ĠNo\"}}],\n",
    "                \"point\": [{\"prompt\": contexts[0] + \"The popularity of the color {x} is {answ}\", \"tok\": {\"[MASK]\": \"[MASK]\"}},\n",
    "                            {\"prompt\": contexts[1] + 'The wealth of {x} is {answ}',\"tok\": {\"[MASK]\": \"[MASK]\"}}],\n",
    "                \"point_scale\": [{\"prompt\": contexts[0] + \"On a scale from 0 to 10, the popularity of the color {x} is {answ}\",\"tok\": {\"[MASK]\": \"[MASK]\"}},\n",
    "                             {\"prompt\": contexts[1] + 'On a scale from 0 to 10, the wealth of {x} is {answ}', \"tok\": {\"[MASK]\": \"[MASK]\"}}],\n",
    "                \"list\": [{\"prompt\": contexts[0] + 'Order the colors {x} by popularity. The correct ordering is:', \"tok\": {'{alpha}'}}, ## alpha means: (alpha) option A, B ...\n",
    "                        {\"prompt\": contexts[1] + 'Order the persons {x} by wealth. The correct ordering is:', \"tok\": {'{alpha}'}}]## just list the numbers....\n",
    "                }\n",
    "\n",
    "        data = [{**prompt_tok, **ents_ranks[i]} for i, prompt_tok in enumerate(data[prompt_type])]\n",
    "        return data"
   ]
  },
  {
   "cell_type": "code",
   "execution_count": 22,
   "id": "5c8d1c48-5ece-4af3-be1a-cfda562f5958",
   "metadata": {},
   "outputs": [
    {
     "name": "stdout",
     "output_type": "stream",
     "text": [
      "prompt_type: point_scale, kwargs: {'option_marker': '\"', 'add_examplar': False}\n",
      "GPT2LMHeadModel\n",
      "items: ['horrible', 'bad', 'okay', 'good', 'great', 'awesome'], prompt: On a scale from 0 to 10, the sentiment of the adjective \"{x}\" is {answ}\n",
      "items: ['1', '10', '100', '500', '1000', '10000'], prompt: On a scale from 0 to 10, the cardinality of the number {x} is {answ}\n"
     ]
    }
   ],
   "source": [
    "prompt_type = \"pair\"  #@param [\"pair\", \"point\", \"point_scale\", \"list\"]\n",
    "dataset = \"SynthFacts\" #@param [\"SynthFacts\", \"SynthContext\"]\n",
    "add_exemplar = False #@param {type:\"boolean\"}\n",
    "option_marker = \"\\\"\" #@param {type:\"string\"}\n",
    "\n",
    "if dataset == \"SynthFacts\":\n",
    "  data = SynthFacts(prompt_type=prompt_type, option_marker='\"', add_examplar=add_exemplar).data\n",
    "elif dataset == \"SynthContext\":\n",
    "  data = SynthContext(prompt_type=prompt_type, option_marker='\"', add_examplar=add_exemplar).data\n",
    "\n",
    "prompter = prompting.Prompter(model, tokenizer, print_prompt=True)\n",
    "\n",
    "print(\"\\n\")\n",
    "for task in data:\n",
    "  prompt, ents = task[\"prompt\"], task[\"ents\"]\n",
    "  print(f\"items: {ents}, prompt: {prompt}\")"
   ]
  },
  {
   "cell_type": "markdown",
   "id": "2de5aea7-69f9-4188-9248-07b9a4079138",
   "metadata": {},
   "source": [
    "### Execute prompting"
   ]
  },
  {
   "cell_type": "code",
   "execution_count": 20,
   "id": "adb9171e-9d30-4af6-aaf8-3b057f20dbd0",
   "metadata": {},
   "outputs": [
    {
     "name": "stdout",
     "output_type": "stream",
     "text": [
      "\n",
      "[('On a scale from 0 to 10, the sentiment of the adjective \"horrible\" is [MASK]', 0), ('On a scale from 0 to 10, the sentiment of the adjective \"bad\" is [MASK]', 5), ('On a scale from 0 to 10, the sentiment of the adjective \"okay\" is [MASK]', 2), ('On a scale from 0 to 10, the sentiment of the adjective \"good\" is [MASK]', 4), ('On a scale from 0 to 10, the sentiment of the adjective \"great\" is [MASK]', 1), ('On a scale from 0 to 10, the sentiment of the adjective \"awesome\" is [MASK]', 3)]\n",
      "\n",
      "ranks: {'kendall': 0.0667}\n",
      "pairwise: {'accuracy': 0.5333}\n",
      "predicted ranks: [0, 5, 2, 4, 1, 3] true ranks: [0, 1, 2, 3, 4, 5]\n",
      "\n",
      "[('On a scale from 0 to 10, the cardinality of the number 1 is [MASK]', 2), ('On a scale from 0 to 10, the cardinality of the number 10 is [MASK]', 4), ('On a scale from 0 to 10, the cardinality of the number 100 is [MASK]', 5), ('On a scale from 0 to 10, the cardinality of the number 500 is [MASK]', 0), ('On a scale from 0 to 10, the cardinality of the number 1000 is [MASK]', 3), ('On a scale from 0 to 10, the cardinality of the number 10000 is [MASK]', 1)]\n",
      "\n",
      "ranks: {'kendall': 0.2}\n",
      "pairwise: {'accuracy': 0.6}\n",
      "predicted ranks: [2, 4, 5, 0, 3, 1] true ranks: [0, 1, 2, 3, 4, 5]\n",
      "\n",
      "\n",
      "result across all ranking tasks______________________________________\n",
      "\n",
      "ranks: {'kendall': 0.1334} \n",
      "pairwise: {'accuracy': 0.5666}\n",
      "\n"
     ]
    }
   ],
   "source": [
    "helpers.evaluate(prompter, data, return_type=[\"\"], tie=False)"
   ]
  },
  {
   "cell_type": "code",
   "execution_count": 16,
   "id": "fa6e85b5-2665-4243-8e9d-7c1d6c215051",
   "metadata": {},
   "outputs": [
    {
     "data": {
      "text/plain": [
       "device(type='cpu')"
      ]
     },
     "execution_count": 16,
     "metadata": {},
     "output_type": "execute_result"
    }
   ],
   "source": [
    "model.device"
   ]
  },
  {
   "cell_type": "code",
   "execution_count": null,
   "id": "f960ae6d-fcf3-472c-96e5-b207ee83e822",
   "metadata": {},
   "outputs": [],
   "source": []
  },
  {
   "cell_type": "code",
   "execution_count": null,
   "id": "f672dc38-225c-480b-9bc6-66bbfaca1ad1",
   "metadata": {},
   "outputs": [],
   "source": []
  }
 ],
 "metadata": {
  "kernelspec": {
   "display_name": "rankPrompt_venv",
   "language": "python",
   "name": "rankprompt_venv"
  },
  "language_info": {
   "codemirror_mode": {
    "name": "ipython",
    "version": 3
   },
   "file_extension": ".py",
   "mimetype": "text/x-python",
   "name": "python",
   "nbconvert_exporter": "python",
   "pygments_lexer": "ipython3",
   "version": "3.11.7"
  }
 },
 "nbformat": 4,
 "nbformat_minor": 5
}
